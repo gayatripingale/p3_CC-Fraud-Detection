{
 "cells": [
  {
   "cell_type": "markdown",
   "metadata": {},
   "source": [
    "## Credit Card Fraud Detection ##"
   ]
  },
  {
   "cell_type": "code",
   "execution_count": 1,
   "metadata": {
    "collapsed": true
   },
   "outputs": [],
   "source": [
    "# importing libraries\n",
    "import sys\n",
    "import numpy as np\n",
    "import pandas as pd\n",
    "import matplotlib.pyplot as plt\n",
    "import seaborn as sns  # to do correlation matrix\n",
    "import scipy"
   ]
  },
  {
   "cell_type": "code",
   "execution_count": 77,
   "metadata": {},
   "outputs": [
    {
     "name": "stdout",
     "output_type": "stream",
     "text": [
      "(100000, 31)\n"
     ]
    }
   ],
   "source": [
    "# read csv file\n",
    "data = pd.read_csv('creditcard.csv')\n",
    "print(data.shape)"
   ]
  },
  {
   "cell_type": "code",
   "execution_count": 78,
   "metadata": {},
   "outputs": [
    {
     "name": "stdout",
     "output_type": "stream",
     "text": [
      "Index(['Time', 'V1', 'V2', 'V3', 'V4', 'V5', 'V6', 'V7', 'V8', 'V9', 'V10',\n",
      "       'V11', 'V12', 'V13', 'V14', 'V15', 'V16', 'V17', 'V18', 'V19', 'V20',\n",
      "       'V21', 'V22', 'V23', 'V24', 'V25', 'V26', 'V27', 'V28', 'Amount',\n",
      "       'Class'],\n",
      "      dtype='object')\n"
     ]
    },
    {
     "data": {
      "text/plain": [
       "'\\nThe column names V1 through v28 is the result of PCA dimentionality Reduction\\nthat was used to protect the sensitive information used in this dataset.\\ne.g we don\\'t want to expose the identity of the individual who made the cc transaction.\\nWe dont want to expose stuff like location.\\n\"Time\" is the seperation of the previous transaction\\nClass: 0 for normal trasaction, and, 1 fo rFradulant transaction\\n'"
      ]
     },
     "execution_count": 78,
     "metadata": {},
     "output_type": "execute_result"
    }
   ],
   "source": [
    "print(data.columns)\n",
    "\n",
    "\"\"\"\n",
    "The column names V1 through v28 is the result of PCA dimentionality Reduction\n",
    "that was used to protect the sensitive information used in this dataset.\n",
    "e.g we don't want to expose the identity of the individual who made the cc transaction.\n",
    "We dont want to expose stuff like location.\n",
    "\"Time\" is the seperation of the previous transaction\n",
    "Class: 0 for normal trasaction, and, 1 fo rFradulant transaction\n",
    "\"\"\""
   ]
  },
  {
   "cell_type": "code",
   "execution_count": 80,
   "metadata": {},
   "outputs": [
    {
     "data": {
      "text/html": [
       "<div>\n",
       "<style>\n",
       "    .dataframe thead tr:only-child th {\n",
       "        text-align: right;\n",
       "    }\n",
       "\n",
       "    .dataframe thead th {\n",
       "        text-align: left;\n",
       "    }\n",
       "\n",
       "    .dataframe tbody tr th {\n",
       "        vertical-align: top;\n",
       "    }\n",
       "</style>\n",
       "<table border=\"1\" class=\"dataframe\">\n",
       "  <thead>\n",
       "    <tr style=\"text-align: right;\">\n",
       "      <th></th>\n",
       "      <th>Time</th>\n",
       "      <th>V1</th>\n",
       "      <th>V2</th>\n",
       "      <th>V3</th>\n",
       "      <th>V4</th>\n",
       "      <th>V5</th>\n",
       "      <th>V6</th>\n",
       "      <th>V7</th>\n",
       "      <th>V8</th>\n",
       "      <th>V9</th>\n",
       "      <th>...</th>\n",
       "      <th>V21</th>\n",
       "      <th>V22</th>\n",
       "      <th>V23</th>\n",
       "      <th>V24</th>\n",
       "      <th>V25</th>\n",
       "      <th>V26</th>\n",
       "      <th>V27</th>\n",
       "      <th>V28</th>\n",
       "      <th>Amount</th>\n",
       "      <th>Class</th>\n",
       "    </tr>\n",
       "  </thead>\n",
       "  <tbody>\n",
       "    <tr>\n",
       "      <th>0</th>\n",
       "      <td>0</td>\n",
       "      <td>-1.359807</td>\n",
       "      <td>-0.072781</td>\n",
       "      <td>2.536347</td>\n",
       "      <td>1.378155</td>\n",
       "      <td>-0.338321</td>\n",
       "      <td>0.462388</td>\n",
       "      <td>0.239599</td>\n",
       "      <td>0.098698</td>\n",
       "      <td>0.363787</td>\n",
       "      <td>...</td>\n",
       "      <td>-0.018307</td>\n",
       "      <td>0.277838</td>\n",
       "      <td>-0.110474</td>\n",
       "      <td>0.066928</td>\n",
       "      <td>0.128539</td>\n",
       "      <td>-0.189115</td>\n",
       "      <td>0.133558</td>\n",
       "      <td>-0.021053</td>\n",
       "      <td>149.62</td>\n",
       "      <td>0</td>\n",
       "    </tr>\n",
       "    <tr>\n",
       "      <th>1</th>\n",
       "      <td>0</td>\n",
       "      <td>1.191857</td>\n",
       "      <td>0.266151</td>\n",
       "      <td>0.166480</td>\n",
       "      <td>0.448154</td>\n",
       "      <td>0.060018</td>\n",
       "      <td>-0.082361</td>\n",
       "      <td>-0.078803</td>\n",
       "      <td>0.085102</td>\n",
       "      <td>-0.255425</td>\n",
       "      <td>...</td>\n",
       "      <td>-0.225775</td>\n",
       "      <td>-0.638672</td>\n",
       "      <td>0.101288</td>\n",
       "      <td>-0.339846</td>\n",
       "      <td>0.167170</td>\n",
       "      <td>0.125895</td>\n",
       "      <td>-0.008983</td>\n",
       "      <td>0.014724</td>\n",
       "      <td>2.69</td>\n",
       "      <td>0</td>\n",
       "    </tr>\n",
       "    <tr>\n",
       "      <th>2</th>\n",
       "      <td>1</td>\n",
       "      <td>-1.358354</td>\n",
       "      <td>-1.340163</td>\n",
       "      <td>1.773209</td>\n",
       "      <td>0.379780</td>\n",
       "      <td>-0.503198</td>\n",
       "      <td>1.800499</td>\n",
       "      <td>0.791461</td>\n",
       "      <td>0.247676</td>\n",
       "      <td>-1.514654</td>\n",
       "      <td>...</td>\n",
       "      <td>0.247998</td>\n",
       "      <td>0.771679</td>\n",
       "      <td>0.909412</td>\n",
       "      <td>-0.689281</td>\n",
       "      <td>-0.327642</td>\n",
       "      <td>-0.139097</td>\n",
       "      <td>-0.055353</td>\n",
       "      <td>-0.059752</td>\n",
       "      <td>378.66</td>\n",
       "      <td>0</td>\n",
       "    </tr>\n",
       "    <tr>\n",
       "      <th>3</th>\n",
       "      <td>1</td>\n",
       "      <td>-0.966272</td>\n",
       "      <td>-0.185226</td>\n",
       "      <td>1.792993</td>\n",
       "      <td>-0.863291</td>\n",
       "      <td>-0.010309</td>\n",
       "      <td>1.247203</td>\n",
       "      <td>0.237609</td>\n",
       "      <td>0.377436</td>\n",
       "      <td>-1.387024</td>\n",
       "      <td>...</td>\n",
       "      <td>-0.108300</td>\n",
       "      <td>0.005274</td>\n",
       "      <td>-0.190321</td>\n",
       "      <td>-1.175575</td>\n",
       "      <td>0.647376</td>\n",
       "      <td>-0.221929</td>\n",
       "      <td>0.062723</td>\n",
       "      <td>0.061458</td>\n",
       "      <td>123.50</td>\n",
       "      <td>0</td>\n",
       "    </tr>\n",
       "    <tr>\n",
       "      <th>4</th>\n",
       "      <td>2</td>\n",
       "      <td>-1.158233</td>\n",
       "      <td>0.877737</td>\n",
       "      <td>1.548718</td>\n",
       "      <td>0.403034</td>\n",
       "      <td>-0.407193</td>\n",
       "      <td>0.095921</td>\n",
       "      <td>0.592941</td>\n",
       "      <td>-0.270533</td>\n",
       "      <td>0.817739</td>\n",
       "      <td>...</td>\n",
       "      <td>-0.009431</td>\n",
       "      <td>0.798278</td>\n",
       "      <td>-0.137458</td>\n",
       "      <td>0.141267</td>\n",
       "      <td>-0.206010</td>\n",
       "      <td>0.502292</td>\n",
       "      <td>0.219422</td>\n",
       "      <td>0.215153</td>\n",
       "      <td>69.99</td>\n",
       "      <td>0</td>\n",
       "    </tr>\n",
       "  </tbody>\n",
       "</table>\n",
       "<p>5 rows × 31 columns</p>\n",
       "</div>"
      ],
      "text/plain": [
       "   Time        V1        V2        V3        V4        V5        V6        V7  \\\n",
       "0     0 -1.359807 -0.072781  2.536347  1.378155 -0.338321  0.462388  0.239599   \n",
       "1     0  1.191857  0.266151  0.166480  0.448154  0.060018 -0.082361 -0.078803   \n",
       "2     1 -1.358354 -1.340163  1.773209  0.379780 -0.503198  1.800499  0.791461   \n",
       "3     1 -0.966272 -0.185226  1.792993 -0.863291 -0.010309  1.247203  0.237609   \n",
       "4     2 -1.158233  0.877737  1.548718  0.403034 -0.407193  0.095921  0.592941   \n",
       "\n",
       "         V8        V9  ...         V21       V22       V23       V24  \\\n",
       "0  0.098698  0.363787  ...   -0.018307  0.277838 -0.110474  0.066928   \n",
       "1  0.085102 -0.255425  ...   -0.225775 -0.638672  0.101288 -0.339846   \n",
       "2  0.247676 -1.514654  ...    0.247998  0.771679  0.909412 -0.689281   \n",
       "3  0.377436 -1.387024  ...   -0.108300  0.005274 -0.190321 -1.175575   \n",
       "4 -0.270533  0.817739  ...   -0.009431  0.798278 -0.137458  0.141267   \n",
       "\n",
       "        V25       V26       V27       V28  Amount  Class  \n",
       "0  0.128539 -0.189115  0.133558 -0.021053  149.62      0  \n",
       "1  0.167170  0.125895 -0.008983  0.014724    2.69      0  \n",
       "2 -0.327642 -0.139097 -0.055353 -0.059752  378.66      0  \n",
       "3  0.647376 -0.221929  0.062723  0.061458  123.50      0  \n",
       "4 -0.206010  0.502292  0.219422  0.215153   69.99      0  \n",
       "\n",
       "[5 rows x 31 columns]"
      ]
     },
     "execution_count": 80,
     "metadata": {},
     "output_type": "execute_result"
    }
   ],
   "source": [
    "data = data.dropna()\n",
    "data.head()"
   ]
  },
  {
   "cell_type": "code",
   "execution_count": 81,
   "metadata": {},
   "outputs": [
    {
     "name": "stdout",
     "output_type": "stream",
     "text": [
      "(100000, 31)\n"
     ]
    }
   ],
   "source": [
    "print(data.shape)"
   ]
  },
  {
   "cell_type": "code",
   "execution_count": 82,
   "metadata": {},
   "outputs": [
    {
     "name": "stdout",
     "output_type": "stream",
     "text": [
      "                Time             V1             V2             V3  \\\n",
      "count  100000.000000  100000.000000  100000.000000  100000.000000   \n",
      "mean    42433.231550      -0.262177      -0.032307       0.676217   \n",
      "std     17044.922359       1.859226       1.656981       1.322926   \n",
      "min         0.000000     -56.407510     -72.715728     -33.680984   \n",
      "25%     33471.750000      -1.028141      -0.598697       0.176770   \n",
      "50%     44299.000000      -0.260557       0.078316       0.753976   \n",
      "75%     55851.250000       1.153324       0.735790       1.376320   \n",
      "max     67375.000000       1.960497      18.902453       4.226108   \n",
      "\n",
      "                  V4             V5             V6             V7  \\\n",
      "count  100000.000000  100000.000000  100000.000000  100000.000000   \n",
      "mean        0.162579      -0.278515       0.094065      -0.108711   \n",
      "std         1.349263       1.356372       1.301349       1.210919   \n",
      "min        -5.172595     -42.147898     -26.160506     -31.764946   \n",
      "25%        -0.711468      -0.898664      -0.647830      -0.600205   \n",
      "50%         0.192550      -0.314382      -0.157014      -0.069096   \n",
      "75%         1.032416       0.249727       0.486353       0.414662   \n",
      "max        16.715537      34.801666      22.529298      36.677268   \n",
      "\n",
      "                  V8             V9      ...                 V21  \\\n",
      "count  100000.000000  100000.000000      ...       100000.000000   \n",
      "mean        0.056019      -0.046472      ...           -0.030865   \n",
      "std         1.207526       1.121396      ...            0.718890   \n",
      "min       -73.216718      -9.283925      ...          -34.830382   \n",
      "25%        -0.137456      -0.698812      ...           -0.224512   \n",
      "50%         0.074136      -0.119083      ...           -0.057669   \n",
      "75%         0.360529       0.558314      ...            0.119186   \n",
      "max        20.007208      10.392889      ...           22.614889   \n",
      "\n",
      "                 V22            V23            V24            V25  \\\n",
      "count  100000.000000  100000.000000  100000.000000  100000.000000   \n",
      "mean       -0.109090      -0.037024       0.008969       0.132206   \n",
      "std         0.634306       0.632908       0.595267       0.441080   \n",
      "min       -10.933144     -44.807735      -2.836627     -10.295397   \n",
      "25%        -0.531327      -0.176415      -0.323714      -0.131788   \n",
      "50%        -0.083865      -0.049238       0.064997       0.170110   \n",
      "75%         0.308337       0.081526       0.406280       0.419929   \n",
      "max        10.503090      19.002942       4.014444       5.541598   \n",
      "\n",
      "                 V26            V27            V28         Amount  \\\n",
      "count  100000.000000  100000.000000  100000.000000  100000.000000   \n",
      "mean        0.026658       0.000624       0.001736      97.961222   \n",
      "std         0.494539       0.393742       0.325162     264.623031   \n",
      "min        -2.534330      -9.390980      -9.617915       0.000000   \n",
      "25%        -0.325102      -0.062533      -0.005355       7.570000   \n",
      "50%        -0.070333       0.009833       0.023318      26.310000   \n",
      "75%         0.300675       0.083027       0.076569      89.000000   \n",
      "max         3.517346      12.152401      33.847808   19656.530000   \n",
      "\n",
      "              Class  \n",
      "count  100000.00000  \n",
      "mean        0.00223  \n",
      "std         0.04717  \n",
      "min         0.00000  \n",
      "25%         0.00000  \n",
      "50%         0.00000  \n",
      "75%         0.00000  \n",
      "max         1.00000  \n",
      "\n",
      "[8 rows x 31 columns]\n"
     ]
    }
   ],
   "source": [
    "print(data.describe())"
   ]
  },
  {
   "cell_type": "markdown",
   "metadata": {},
   "source": [
    " #### Since this is a big dat set, let's sample the fraction of it in order to save time and the computational requirements #### "
   ]
  },
  {
   "cell_type": "code",
   "execution_count": 83,
   "metadata": {},
   "outputs": [
    {
     "name": "stdout",
     "output_type": "stream",
     "text": [
      "(10000, 31)\n"
     ]
    }
   ],
   "source": [
    "data = data.sample(frac = 0.1, random_state = 1)\n",
    "print(data.shape)"
   ]
  },
  {
   "cell_type": "code",
   "execution_count": 85,
   "metadata": {},
   "outputs": [
    {
     "data": {
      "text/html": [
       "<div>\n",
       "<style>\n",
       "    .dataframe thead tr:only-child th {\n",
       "        text-align: right;\n",
       "    }\n",
       "\n",
       "    .dataframe thead th {\n",
       "        text-align: left;\n",
       "    }\n",
       "\n",
       "    .dataframe tbody tr th {\n",
       "        vertical-align: top;\n",
       "    }\n",
       "</style>\n",
       "<table border=\"1\" class=\"dataframe\">\n",
       "  <thead>\n",
       "    <tr style=\"text-align: right;\">\n",
       "      <th></th>\n",
       "      <th>Time</th>\n",
       "      <th>V1</th>\n",
       "      <th>V2</th>\n",
       "      <th>V3</th>\n",
       "      <th>V4</th>\n",
       "      <th>V5</th>\n",
       "      <th>V6</th>\n",
       "      <th>V7</th>\n",
       "      <th>V8</th>\n",
       "      <th>V9</th>\n",
       "      <th>...</th>\n",
       "      <th>V21</th>\n",
       "      <th>V22</th>\n",
       "      <th>V23</th>\n",
       "      <th>V24</th>\n",
       "      <th>V25</th>\n",
       "      <th>V26</th>\n",
       "      <th>V27</th>\n",
       "      <th>V28</th>\n",
       "      <th>Amount</th>\n",
       "      <th>Class</th>\n",
       "    </tr>\n",
       "  </thead>\n",
       "  <tbody>\n",
       "    <tr>\n",
       "      <th>43660</th>\n",
       "      <td>41599</td>\n",
       "      <td>-0.349615</td>\n",
       "      <td>-2.860571</td>\n",
       "      <td>0.297766</td>\n",
       "      <td>0.801212</td>\n",
       "      <td>-1.523995</td>\n",
       "      <td>1.164260</td>\n",
       "      <td>0.037484</td>\n",
       "      <td>0.325220</td>\n",
       "      <td>0.862825</td>\n",
       "      <td>...</td>\n",
       "      <td>0.315370</td>\n",
       "      <td>-0.503099</td>\n",
       "      <td>-0.514747</td>\n",
       "      <td>-0.193890</td>\n",
       "      <td>-0.327091</td>\n",
       "      <td>0.875820</td>\n",
       "      <td>-0.144908</td>\n",
       "      <td>0.125368</td>\n",
       "      <td>745.56</td>\n",
       "      <td>0</td>\n",
       "    </tr>\n",
       "    <tr>\n",
       "      <th>87278</th>\n",
       "      <td>61613</td>\n",
       "      <td>-0.827533</td>\n",
       "      <td>-0.671683</td>\n",
       "      <td>1.785231</td>\n",
       "      <td>-1.526185</td>\n",
       "      <td>-1.173826</td>\n",
       "      <td>0.264704</td>\n",
       "      <td>0.439928</td>\n",
       "      <td>0.186293</td>\n",
       "      <td>1.744730</td>\n",
       "      <td>...</td>\n",
       "      <td>0.258396</td>\n",
       "      <td>0.868102</td>\n",
       "      <td>0.223055</td>\n",
       "      <td>0.157205</td>\n",
       "      <td>-0.035462</td>\n",
       "      <td>0.117358</td>\n",
       "      <td>0.122543</td>\n",
       "      <td>0.150529</td>\n",
       "      <td>200.00</td>\n",
       "      <td>0</td>\n",
       "    </tr>\n",
       "    <tr>\n",
       "      <th>14317</th>\n",
       "      <td>25394</td>\n",
       "      <td>-0.818540</td>\n",
       "      <td>1.097846</td>\n",
       "      <td>1.191111</td>\n",
       "      <td>2.362670</td>\n",
       "      <td>1.366270</td>\n",
       "      <td>-0.139986</td>\n",
       "      <td>0.739743</td>\n",
       "      <td>-0.071643</td>\n",
       "      <td>-1.731761</td>\n",
       "      <td>...</td>\n",
       "      <td>0.086618</td>\n",
       "      <td>0.240595</td>\n",
       "      <td>-0.342197</td>\n",
       "      <td>-0.248370</td>\n",
       "      <td>0.154186</td>\n",
       "      <td>0.230851</td>\n",
       "      <td>-0.010524</td>\n",
       "      <td>0.105320</td>\n",
       "      <td>3.96</td>\n",
       "      <td>0</td>\n",
       "    </tr>\n",
       "    <tr>\n",
       "      <th>81932</th>\n",
       "      <td>59165</td>\n",
       "      <td>-1.628719</td>\n",
       "      <td>1.323132</td>\n",
       "      <td>1.565122</td>\n",
       "      <td>0.328331</td>\n",
       "      <td>-0.436460</td>\n",
       "      <td>0.167396</td>\n",
       "      <td>-0.191270</td>\n",
       "      <td>0.892086</td>\n",
       "      <td>-0.663425</td>\n",
       "      <td>...</td>\n",
       "      <td>0.221762</td>\n",
       "      <td>0.395586</td>\n",
       "      <td>-0.239081</td>\n",
       "      <td>-0.017775</td>\n",
       "      <td>0.267190</td>\n",
       "      <td>-0.379588</td>\n",
       "      <td>-0.578092</td>\n",
       "      <td>-0.328656</td>\n",
       "      <td>5.29</td>\n",
       "      <td>0</td>\n",
       "    </tr>\n",
       "    <tr>\n",
       "      <th>95321</th>\n",
       "      <td>65253</td>\n",
       "      <td>1.122379</td>\n",
       "      <td>0.201399</td>\n",
       "      <td>1.242575</td>\n",
       "      <td>2.736508</td>\n",
       "      <td>-0.739844</td>\n",
       "      <td>0.014675</td>\n",
       "      <td>-0.449476</td>\n",
       "      <td>0.141563</td>\n",
       "      <td>0.137114</td>\n",
       "      <td>...</td>\n",
       "      <td>0.062045</td>\n",
       "      <td>0.300385</td>\n",
       "      <td>-0.088723</td>\n",
       "      <td>0.382818</td>\n",
       "      <td>0.499840</td>\n",
       "      <td>0.152090</td>\n",
       "      <td>0.022745</td>\n",
       "      <td>0.027343</td>\n",
       "      <td>10.60</td>\n",
       "      <td>0</td>\n",
       "    </tr>\n",
       "  </tbody>\n",
       "</table>\n",
       "<p>5 rows × 31 columns</p>\n",
       "</div>"
      ],
      "text/plain": [
       "        Time        V1        V2        V3        V4        V5        V6  \\\n",
       "43660  41599 -0.349615 -2.860571  0.297766  0.801212 -1.523995  1.164260   \n",
       "87278  61613 -0.827533 -0.671683  1.785231 -1.526185 -1.173826  0.264704   \n",
       "14317  25394 -0.818540  1.097846  1.191111  2.362670  1.366270 -0.139986   \n",
       "81932  59165 -1.628719  1.323132  1.565122  0.328331 -0.436460  0.167396   \n",
       "95321  65253  1.122379  0.201399  1.242575  2.736508 -0.739844  0.014675   \n",
       "\n",
       "             V7        V8        V9  ...         V21       V22       V23  \\\n",
       "43660  0.037484  0.325220  0.862825  ...    0.315370 -0.503099 -0.514747   \n",
       "87278  0.439928  0.186293  1.744730  ...    0.258396  0.868102  0.223055   \n",
       "14317  0.739743 -0.071643 -1.731761  ...    0.086618  0.240595 -0.342197   \n",
       "81932 -0.191270  0.892086 -0.663425  ...    0.221762  0.395586 -0.239081   \n",
       "95321 -0.449476  0.141563  0.137114  ...    0.062045  0.300385 -0.088723   \n",
       "\n",
       "            V24       V25       V26       V27       V28  Amount  Class  \n",
       "43660 -0.193890 -0.327091  0.875820 -0.144908  0.125368  745.56      0  \n",
       "87278  0.157205 -0.035462  0.117358  0.122543  0.150529  200.00      0  \n",
       "14317 -0.248370  0.154186  0.230851 -0.010524  0.105320    3.96      0  \n",
       "81932 -0.017775  0.267190 -0.379588 -0.578092 -0.328656    5.29      0  \n",
       "95321  0.382818  0.499840  0.152090  0.022745  0.027343   10.60      0  \n",
       "\n",
       "[5 rows x 31 columns]"
      ]
     },
     "execution_count": 85,
     "metadata": {},
     "output_type": "execute_result"
    }
   ],
   "source": [
    "data.head()"
   ]
  },
  {
   "cell_type": "markdown",
   "metadata": {},
   "source": [
    "#### Visual represntation of this data ###\n"
   ]
  },
  {
   "cell_type": "code",
   "execution_count": 86,
   "metadata": {},
   "outputs": [
    {
     "data": {
      "image/png": "[encoded data removed]",
      "text/plain": [
       "<matplotlib.figure.Figure at 0x1a1d3916d8>"
      ]
     },
     "metadata": {},
     "output_type": "display_data"
    }
   ],
   "source": [
    "# Ploting histogram\n",
    "data.hist(figsize = (20,20), color = \"lightblue\")\n",
    "plt.show()"
   ]
  },
  {
   "cell_type": "markdown",
   "metadata": {
    "collapsed": true
   },
   "source": [
    "Observation: Here we could see that most of the Vs are clustered areound zero with some fairly large outliers or no outliers.\n",
    "There are very few frodulant transactions, almost none in this sample in caparison to the valid transactions. That's kind of surprising. But, it's make sense as it's a real world data\n",
    "\n",
    "Let's calculate the fraudulant and valid cases we have so that we get an outlier fraction that is going to go into our future methods-our anmole detectin method.\n",
    "Lets do it in a following way\n"
   ]
  },
  {
   "cell_type": "code",
   "execution_count": 88,
   "metadata": {},
   "outputs": [
    {
     "name": "stdout",
     "output_type": "stream",
     "text": [
      "Total Cases:10000\n",
      "The Outlier Fraction is: 0.00220485067147725\n",
      "Farud Cases:22\n",
      "Valid Cases:9978\n"
     ]
    }
   ],
   "source": [
    "# Finding out the number of fraud cases\n",
    "Fraud = data[data['Class'] == 1]\n",
    "Valid = data[data['Class']== 0]\n",
    "\n",
    "# --- Finding Percentge of fraudulant cases to valid cases ----\n",
    "\n",
    "outlier_fraction = len(Fraud)/float(len(Valid)) \n",
    "\n",
    "\"\"\"\n",
    "# Why float(len(Valid))?? \n",
    "Ans: Because, if we don't use the \"float\" for (len(Valid)), then \n",
    "it will round it to the 'interger' type, which will round it to the \"0\" (zero) as its a very very samll number.\n",
    "So, to carry a decimal point, use \"float\" before \"len(Valid)\"\n",
    "\"\"\"\n",
    "print(\"Total Cases:{}\".format(len(Valid) + len(Fraud) ))\n",
    "print(\"The Outlier Fraction is: {}\".format(outlier_fraction))\n",
    "print(\"Farud Cases:{}\".format(len(Fraud)))\n",
    "print(\"Valid Cases:{}\".format(len(Valid)))"
   ]
  },
  {
   "cell_type": "markdown",
   "metadata": {},
   "source": [
    "Obsevation: So, here we have about 0.15% of fraudulant cases, which is 16 out of 10,182 total number of transactions."
   ]
  },
  {
   "cell_type": "markdown",
   "metadata": {},
   "source": [
    "\n",
    "Now let's see it there is any corelation between any data set by building a Correlation Matrix.This is going to tell us:\n",
    " 1. Weather we need to remove any column.\n",
    " 2. If there is any strong linear relationship which we could then use to different linear methods to predict this.\n",
    " 3. It's going to show us which fratures are important for overall classification."
   ]
  },
  {
   "cell_type": "code",
   "execution_count": 89,
   "metadata": {},
   "outputs": [
    {
     "data": {
      "image/png": "[encoded data removed]",
      "text/plain": [
       "<matplotlib.figure.Figure at 0x1a190e1ac8>"
      ]
     },
     "metadata": {},
     "output_type": "display_data"
    }
   ],
   "source": [
    "corrmat = data.corr()\n",
    "fig = plt.figure(figsize = (20,9))\n",
    "sns.heatmap(corrmat, vmax = .9, square = True)\n",
    "plt.show()"
   ]
  },
  {
   "cell_type": "markdown",
   "metadata": {},
   "source": [
    "Observation: \n",
    "* From the heart map above, we could see that lot of values are really close to zero\n",
    "* There is no strong correlation between the 'V' parameters/values. They are not related to each other.\n",
    "* However there is variation in relation between the Class and V parameters. Some of them are strongly corelated than the other. \n",
    "* Darker one on the color pallete indicates the \"Negative\" correlation, and, the lighter ones are \"Positive\" correlation.\n",
    "e.g  V17 has stronger 'Negstive' correlation, and, V11 is the stronger 'Positive' correlation to the Class.\n",
    " (V17 falls in dark side of color pallate, where as V11 comes under lighter side)\n",
    "* There is correlation between the Amount and the Class weather it is fraudulant or not\n",
    "* We don't see many one-to-one correlation in the matrix. That means we don't have to pull out any column before we dive into actually doing our Machine Learning.\n",
    "But before that we need format our dataset slightly as follows "
   ]
  },
  {
   "cell_type": "code",
   "execution_count": 90,
   "metadata": {},
   "outputs": [
    {
     "name": "stdout",
     "output_type": "stream",
     "text": [
      "(10000, 30)\n",
      "(10000,)\n"
     ]
    }
   ],
   "source": [
    "# Formatting the dataset\n",
    "# Get all the columns from the dataframe\n",
    "columns = data.columns.tolist()\n",
    "\n",
    "# Filter the coulumns to remove the data we do not want. In this case \"Class\"\n",
    "columns = [c for c in columns if c not in [\"Class\"]]\n",
    "\"\"\"\n",
    "It would be very easy to predict which one is fraudulant if we tell our network whixh one is fraudulant\n",
    "This is unsupervised learnig. So we don't want the labels to be fed to the network ahead of time.\n",
    "\"\"\"\n",
    "# Start the variable we will be predicting on. In this project it will be a \"Class\" \n",
    "# Class tells us if the transaction is valid or fraudulant.\n",
    "\n",
    "target = \"Class\"\n",
    "\n",
    "X = data[columns]\n",
    "Y = data[target]\n",
    "print(X.shape)\n",
    "print(Y.shape)"
   ]
  },
  {
   "cell_type": "markdown",
   "metadata": {},
   "source": [
    "So, as we see the shape of the data is (28462,30) insteade of (28462,31) earlier\n",
    "(28462,) is the one dimentional array.\n",
    "All is set, and, we can start building our network\n",
    "We are going to use Isolation Forest Algorithm as well as the Local Outlier Factor to try to do the Anamoly Detction on this data set.\n",
    "Let's fit in this data and trying to predict which one are outliers.\n",
    "\n",
    "\n",
    "isolation_forest and LocalOutlierFactor are two common methods from Sklearn use to detect an anamoly.\n",
    "Support Vector Machine can also be used to do the outlier detection. But,computing support vectors to build a machine like that take a while as the data is big.\n",
    "\n",
    "#### LocalOulierFactoer method####\n",
    "\n",
    "It is a unsupervised outlier detection method. This goes ahead and calculates the anamoly scores of each sample, and, we call the local outlier factor.\n",
    "So, it measures the local deviation of the density of the given sample with respect to it's neoghbours. It is local in that anamoly score, depends issolated the object is with respect to the surrounding neighbhood. This is determining th esame way as the K-nears neighbour's method.\n",
    "However we are calculateing anamoly scosres based of those scores.\n",
    "\n",
    "\n",
    "#### isolation_forest algorithm ### \n",
    "It is little different. It is going to return the amnamoly score of each sample using this isolation_forest method. It does that and isolates the observation by ramdomly selecting the feature, and, by randomly selecting split value between the maximum and minimum values of the\n",
    "selected features. All columns here are considered as the features. \n",
    "Since the reccurssive partionshing can be represented by tree strudture, the number of splittings required to isolate a sample is quivalent to the path length from root node to the terminating node.\n",
    "This path length average over the force of such random trees is ameasure of normality and our decision function.So, random partioning produces noticably shorter path for anamolies.\n",
    "Hence, when a forced random trees collectively produces the shorter path length for a perticular sample, then, they are highly likelt to be an anamolies.\n",
    "So, this is the combination of Random Force Algorithms and it's doing that to isolate the points which have these shorter path lengths, or, are more likely to be anmolies.\n",
    "\n",
    "\n"
   ]
  },
  {
   "cell_type": "markdown",
   "metadata": {},
   "source": [
    "In Machine learning it is really important that you understand the algorithms that you are using because you need to pick the one is most successful. Many times it is a good idea to compare the multiple methods. \n",
    "e.g here we are comparing these two methods: isolation_forest, and, LocalOutlierFactor.\n",
    "However even to narrow it down to the two methods will require lot of foresight."
   ]
  },
  {
   "cell_type": "code",
   "execution_count": 91,
   "metadata": {},
   "outputs": [],
   "source": [
    "# Let's import the following packages\n",
    "# sklearn.matrics will deterine how successful we are to in our outlier detection\n",
    "\n",
    "from sklearn.metrics import classification_report, accuracy_score\n",
    "from sklearn.ensemble import IsolationForest\n",
    "from sklearn.neighbors import LocalOutlierFactor\n",
    "\n",
    "# defie random state\n",
    "state = 1\n",
    "\n",
    "# Define the outlier detection method. \n",
    " \n",
    "\"\"\"\n",
    " Note: \n",
    " 1. We have calculated outlier_fraction above, and, \n",
    " 2. n_neighbour = 20 is kind of default or standard. \n",
    " The heigher the percentage of the outlier in your data set, the higher you are gonna make be this \"n_neighbour\" number\n",
    " 3. \"classifiers\" is goning to be the \"dictionary\"\n",
    "\"\"\"\n",
    "\n",
    "classifiers = {\n",
    "    \"Isolation Forest\": IsolationForest(max_samples = len(X),\n",
    "                                       contamination = outlier_fraction,\n",
    "                                       random_state = state),\n",
    "    \"Local Outlier Factor\": LocalOutlierFactor(\n",
    "    n_neighbors = 20,\n",
    "    contamination = outlier_fraction)\n",
    "                                        \n",
    "}\n"
   ]
  },
  {
   "cell_type": "markdown",
   "metadata": {},
   "source": [
    "#### Fitting the model ###\n",
    "\n",
    "This is where the fun begins\n"
   ]
  },
  {
   "cell_type": "code",
   "execution_count": 96,
   "metadata": {},
   "outputs": [
    {
     "name": "stdout",
     "output_type": "stream",
     "text": [
      "Isolation Forest:35\n",
      "0.9965\n",
      "             precision    recall  f1-score   support\n",
      "\n",
      "          0       1.00      1.00      1.00      9978\n",
      "          1       0.22      0.23      0.22        22\n",
      "\n",
      "avg / total       1.00      1.00      1.00     10000\n",
      "\n",
      "Local Outlier Factor:45\n",
      "0.9955\n",
      "             precision    recall  f1-score   support\n",
      "\n",
      "          0       1.00      1.00      1.00      9978\n",
      "          1       0.00      0.00      0.00        22\n",
      "\n",
      "avg / total       1.00      1.00      1.00     10000\n",
      "\n"
     ]
    }
   ],
   "source": [
    "# Fit the model \n",
    "\n",
    "# We willdefine the variable for number of outliers as \"n_outliers\".\n",
    "n_outliers = len(Fraud)\n",
    "\n",
    "# we wil use the \"for loop\" thorugh the two different classifiers that we have defined above\n",
    "for i,(clf_name, clf) in enumerate(classifiers.items()):\n",
    "    # fit the data and tag the outliers\n",
    "     # We will have to do it in two steps as it is litttle bit different if we are using LocalOutlierFactor Versus IsolationForest\n",
    "        if clf_name == \"Local Outlier Factor\":\n",
    "            y_pred = clf.fit_predict(X)\n",
    "            scores_pred = clf.negative_outlier_factor_\n",
    "        else:\n",
    "            clf.fit(X)\n",
    "            scores_pred = clf.decision_function(X)\n",
    "            y_pred = clf.predict(X)\n",
    "            \n",
    "            # Reshape the prediction values to 0 for valid and 1 for fraud\n",
    "        y_pred[y_pred == 1] = 0\n",
    "        y_pred[y_pred == -1] = 1\n",
    "\n",
    "        # We want to find the number of errors. That can be done by doing comparison of Y\n",
    "        n_errors = (y_pred != Y).sum()\n",
    "\n",
    "        # Run classification matrics\n",
    "        print(\"{}:{}\".format(clf_name, n_errors))\n",
    "        print(accuracy_score(Y,y_pred)) # We have imported accuracy_score() above\n",
    "        print(classification_report(Y,y_pred)) # This is to print the Actual and predicted value of y\n",
    "\n",
    "        \"\"\"\n",
    "            #1 if clf_name == \"Local Outlier Factor\" then we predict y as \n",
    "            y_pred = clf.fit_predict(X)\n",
    "            \n",
    "            This means it's going to fit the X-data which are all our columns without the column \"Class\",\n",
    "            and, it's also going to predict the labels for those values.\n",
    "            \n",
    "            #2 esle:\n",
    "             if the clf_nameis == \"IsolationForest\", then\n",
    "             clf.fit(X)\n",
    "             scores_pred = clf.decision_function(X) i.e the decsion function that is generates out of X.\n",
    "             \n",
    "            #3 The results, y_pred values (prediciton of y), that we are going to get back are going to give us \n",
    "                 -1 for outlier, and, +1 for inlier. This is a useful information \n",
    "            #4 But, we have to process that a little bit before we comapre it to our class lables. \n",
    "               If you referance to the table, our class lables are 0 for \"Valid\" and 1 for \"Fraud\".\n",
    "               That's why we want to change this a little bit. Hence the \"reshape\"\n",
    "               \n",
    "               y_pred[y_pred == 1] = 0 <--- Here, all y_pred where, y_pred == 1, are \"inliers\", i.e. \"Valid\" transactions. \n",
    "               So, we are assgining all those inliers to \"0\"(zero) to make them a \"Valid\" transactions.\n",
    "               \n",
    "               y_pred[y_pred == -1 ] = 1 <--- Here, all y_pred values where y_pred == -1 are \"Outliers\", i.e. \"Fraud\".\n",
    "               So we want ot assign them \"1\" as per our defination of Valid and Fraud ( Valid should be 0 and Fraud should be 1).\n",
    "               \n",
    "             #5 # We want to find the number of errors. That can be done by doing comparison of Y.\n",
    "                 Y is the Targate. Y is 0 for Valid and Y =1 for Fraud for each individual case.\n",
    "                n_errors is a variable to find the number of errors.\n",
    "                n_errors = (y_pred != Y) <---- n_errors = all those values of y_predict when y_pred != Y.\n",
    "        \"\"\""
   ]
  },
  {
   "cell_type": "code",
   "execution_count": null,
   "metadata": {
    "collapsed": true
   },
   "outputs": [],
   "source": []
  }
 ],
 "metadata": {
  "kernelspec": {
   "display_name": "Python 3",
   "language": "python",
   "name": "python3"
  },
  "language_info": {
   "codemirror_mode": {
    "name": "ipython",
    "version": 3
   },
   "file_extension": ".py",
   "mimetype": "text/x-python",
   "name": "python",
   "nbconvert_exporter": "python",
   "pygments_lexer": "ipython3",
   "version": "3.6.2"
  }
 },
 "nbformat": 4,
 "nbformat_minor": 2
}
